{
 "cells": [
  {
   "cell_type": "code",
   "execution_count": 1,
   "metadata": {},
   "outputs": [],
   "source": [
    "import os\n",
    "import sys\n",
    "import json\n",
    "\n",
    "sys.path.append(os.path.abspath('.'))\n",
    "import api"
   ]
  },
  {
   "cell_type": "code",
   "execution_count": 2,
   "metadata": {},
   "outputs": [],
   "source": [
    "data1_raw = '{\"atoms\":[{\"position\":{\"x\":-169.92187499999997,\"y\":-6.8359375},\"symbol\":\"C\"},{\"position\":{\"x\":-73.32929237109315,\"y\":19.045967010252074},\"symbol\":\"C\"},{\"position\":{\"x\":-23.32929237109316,\"y\":-67.5565733681918},\"symbol\":\"C\"},{\"position\":{\"x\":73.26329025781362,\"y\":-41.67466885793959},\"symbol\":\"C\"},{\"position\":{\"x\":-102.66462640021655,\"y\":-128.43271626906403},\"symbol\":\"C\"}],\"bonds\":[{\"type\":\"single\",\"from\":0,\"to\":1},{\"type\":\"single\",\"from\":1,\"to\":2},{\"type\":\"single\",\"from\":2,\"to\":3},{\"type\":\"single\",\"from\":2,\"to\":4}]}'\n",
    "data2_raw = '{\"atoms\":[{\"position\":{\"x\":-73.32929237109315,\"y\":19.045967010252074},\"symbol\":\"C\"},{\"position\":{\"x\":-23.32929237109316,\"y\":-67.5565733681918},\"symbol\":\"C\"},{\"position\":{\"x\":-102.66462640021655,\"y\":-128.43271626906403},\"symbol\":\"C\"},{\"position\":{\"x\":13.273248007350745,\"y\":69.04596701025201},\"symbol\":\"C\"},{\"position\":{\"x\":-169.92187499999994,\"y\":44.92787152050422},\"symbol\":\"C\"}],\"bonds\":[{\"type\":\"single\",\"from\":0,\"to\":1},{\"type\":\"single\",\"from\":1,\"to\":2},{\"type\":\"single\",\"from\":0,\"to\":3},{\"type\":\"single\",\"from\":0,\"to\":4}]}'\n",
    "data3_raw = '{\"atoms\":[{\"position\":{\"x\":-73.32929237109315,\"y\":19.045967010252074},\"symbol\":\"C\"},{\"position\":{\"x\":-23.32929237109316,\"y\":-67.5565733681918},\"symbol\":\"C\"},{\"position\":{\"x\":-102.66462640021655,\"y\":-128.43271626906403},\"symbol\":\"C\"},{\"position\":{\"x\":13.273248007350745,\"y\":69.04596701025201},\"symbol\":\"C\"},{\"position\":{\"x\":-169.92187499999994,\"y\":44.92787152050422},\"symbol\":\"C\"},{\"position\":{\"x\":74.74923566922992,\"y\":-87.06560556980449},\"symbol\":\"C\"}],\"bonds\":[{\"type\":\"single\",\"from\":0,\"to\":1},{\"type\":\"single\",\"from\":1,\"to\":2},{\"type\":\"single\",\"from\":0,\"to\":3},{\"type\":\"single\",\"from\":0,\"to\":4},{\"type\":\"single\",\"from\":1,\"to\":5}]}'\n",
    "data4_raw = '{\"atoms\":[{\"position\":{\"x\":-52.8731045490822,\"y\":-60.853950518755},\"symbol\":\"C\"},{\"position\":{\"x\":-139.47564492752605,\"y\":-10.853950518754964},\"symbol\":\"C\"},{\"position\":{\"x\":-52.873104549082285,\"y\":39.146049481245},\"symbol\":\"C\"},{\"position\":{\"x\":33.72943582936165,\"y\":-10.853950518754978},\"symbol\":\"C\"},{\"position\":{\"x\":43.719478079824626,\"y\":-86.73585502900704},\"symbol\":\"C\"},{\"position\":{\"x\":-65.92572377108733,\"y\":-159.99843665613605},\"symbol\":\"C\"}],\"bonds\":[{\"type\":\"single\",\"from\":0,\"to\":1},{\"type\":\"single\",\"from\":0,\"to\":2},{\"type\":\"single\",\"from\":0,\"to\":3},{\"type\":\"single\",\"from\":0,\"to\":4},{\"type\":\"single\",\"from\":0,\"to\":5}]}'"
   ]
  },
  {
   "cell_type": "code",
   "execution_count": 3,
   "metadata": {},
   "outputs": [
    {
     "data": {
      "text/plain": [
       "True"
      ]
     },
     "execution_count": 3,
     "metadata": {},
     "output_type": "execute_result"
    }
   ],
   "source": [
    "api.validate(json.loads(data1_raw))"
   ]
  },
  {
   "cell_type": "code",
   "execution_count": 4,
   "metadata": {},
   "outputs": [
    {
     "data": {
      "text/plain": [
       "False"
      ]
     },
     "execution_count": 4,
     "metadata": {},
     "output_type": "execute_result"
    }
   ],
   "source": [
    "api.validate(json.loads(data4_raw))"
   ]
  },
  {
   "cell_type": "code",
   "execution_count": 5,
   "metadata": {},
   "outputs": [
    {
     "data": {
      "text/plain": [
       "True"
      ]
     },
     "execution_count": 5,
     "metadata": {},
     "output_type": "execute_result"
    }
   ],
   "source": [
    "api.compare(json.loads(data1_raw), json.loads(data2_raw))"
   ]
  },
  {
   "cell_type": "code",
   "execution_count": 6,
   "metadata": {},
   "outputs": [
    {
     "data": {
      "text/plain": [
       "False"
      ]
     },
     "execution_count": 6,
     "metadata": {},
     "output_type": "execute_result"
    }
   ],
   "source": [
    "api.compare(json.loads(data1_raw), json.loads(data3_raw))"
   ]
  }
 ],
 "metadata": {
  "kernelspec": {
   "display_name": "Python 3",
   "language": "python",
   "name": "python3"
  },
  "language_info": {
   "codemirror_mode": {
    "name": "ipython",
    "version": 3
   },
   "file_extension": ".py",
   "mimetype": "text/x-python",
   "name": "python",
   "nbconvert_exporter": "python",
   "pygments_lexer": "ipython3",
   "version": "3.11.2"
  }
 },
 "nbformat": 4,
 "nbformat_minor": 2
}
