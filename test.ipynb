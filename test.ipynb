{
 "cells": [
  {
   "cell_type": "code",
   "execution_count": 1,
   "metadata": {},
   "outputs": [],
   "source": [
    "import os\n",
    "import sys\n",
    "import json\n",
    "\n",
    "sys.path.append(os.path.abspath('.'))\n",
    "import api\n",
    "\n",
    "def read(path):\n",
    "  with open(path) as f:\n",
    "    return json.loads(f.read())"
   ]
  },
  {
   "cell_type": "code",
   "execution_count": 2,
   "metadata": {},
   "outputs": [
    {
     "data": {
      "image/png": "[encoded data removed]",
      "text/plain": [
       "<rdkit.Chem.rdchem.Mol at 0x7f474770c200>"
      ]
     },
     "execution_count": 2,
     "metadata": {},
     "output_type": "execute_result"
    }
   ],
   "source": [
    "api.json_to_mol(read('test/author.json'))"
   ]
  },
  {
   "cell_type": "code",
   "execution_count": 3,
   "metadata": {},
   "outputs": [
    {
     "data": {
      "image/png": "[encoded data removed]",
      "text/plain": [
       "<rdkit.Chem.rdchem.Mol at 0x7f474770c270>"
      ]
     },
     "execution_count": 3,
     "metadata": {},
     "output_type": "execute_result"
    }
   ],
   "source": [
    "api.json_to_mol(read('test/new_format.json'))"
   ]
  },
  {
   "cell_type": "code",
   "execution_count": 4,
   "metadata": {},
   "outputs": [],
   "source": [
    "def validate(path: str):\n",
    "  return api.validate(read(path))\n",
    "\n",
    "\n",
    "def compare(path1: str, path2: str, match_stereo = True):\n",
    "  return api.compare(read(path1), read(path2), match_stereo)\n",
    "\n",
    "\n",
    "assert validate('test/author.json')\n",
    "assert not compare('test/cis.json', 'test/trans.json')\n",
    "assert not compare('test/author.json', 'test/faulty2.json')\n",
    "assert not compare('test/isomer1.json', 'test/isomer2.json')\n",
    "assert compare('test/isomer1.json', 'test/isomer2.json', False)\n",
    "assert compare('test/arrows/1.json', 'test/arrows/2.json')\n",
    "assert not compare('test/arrows/1.json', 'test/arrows/3.json')\n",
    "assert not compare('test/arrows/1.json', 'test/arrows/4.json')\n",
    "\n",
    "# H-count\n",
    "assert compare('test/75e47871/with_h.json', 'test/75e47871/without_h.json')\n",
    "\n",
    "# Resonance\n",
    "assert compare('test/6bae6c35/mol1.json', 'test/6bae6c35/mol2.json')\n",
    "\n",
    "# Halogen\n",
    "assert compare('test/89c1f93c/author.json', 'test/89c1f93c/submission.json')\n",
    "assert not compare('test/89c1f93c/author.json', 'test/89c1f93c/invalid.json')\n",
    "\n",
    "# Cyclic trans\n",
    "assert not compare('test/4f9ead79/mol1.json', 'test/4f9ead79/mol2.json', True)"
   ]
  }
 ],
 "metadata": {
  "kernelspec": {
   "display_name": "venv",
   "language": "python",
   "name": "python3"
  },
  "language_info": {
   "codemirror_mode": {
    "name": "ipython",
    "version": 3
   },
   "file_extension": ".py",
   "mimetype": "text/x-python",
   "name": "python",
   "nbconvert_exporter": "python",
   "pygments_lexer": "ipython3",
   "version": "3.11.2"
  }
 },
 "nbformat": 4,
 "nbformat_minor": 2
}
